{
 "cells": [
  {
   "cell_type": "code",
   "execution_count": 195,
   "id": "9219d501",
   "metadata": {},
   "outputs": [
    {
     "name": "stdout",
     "output_type": "stream",
     "text": [
      "      Variable  Importance\n",
      "15    HardHit%    0.217346\n",
      "16     Barrel%    0.210425\n",
      "11        BB/K    0.108011\n",
      "10        CSW%    0.060098\n",
      "13          K%    0.051374\n",
      "17          EV    0.047518\n",
      "7    F-Strike%    0.035528\n",
      "12         BB%    0.034530\n",
      "6        Zone%    0.027669\n",
      "14      Clutch    0.027413\n",
      "3   O-Contact%    0.023976\n",
      "1     Z-Swing%    0.023530\n",
      "8       SwStr%    0.020753\n",
      "18          LA    0.020194\n",
      "4   Z-Contact%    0.020004\n",
      "2       Swing%    0.019695\n",
      "5     Contact%    0.017705\n",
      "9        CStr%    0.017704\n",
      "0     O-Swing%    0.016527\n"
     ]
    }
   ],
   "source": [
    "import pandas as pd\n",
    "from sklearn.model_selection import train_test_split\n",
    "from sklearn.tree import DecisionTreeRegressor\n",
    "from sklearn.metrics import mean_absolute_error\n",
    "import seaborn as sns\n",
    "from xgboost import XGBRegressor\n",
    "import matplotlib.pyplot as plt\n",
    "import warnings\n",
    "import numpy as np\n",
    "\n",
    "warnings.filterwarnings(action='ignore')\n",
    "\n",
    "data = pd.read_csv('Updated wOBA data.csv')\n",
    "X = data.drop(['Name', 'Team', 'playerid', 'wOBA', 'SLG', 'OBP', 'PA'], axis=1)\n",
    "y = data['wOBA']\n",
    "\n",
    "model = XGBRegressor(learning_rate=0.1, n_estimators=1000, max_depth=3, subsample=0.8)\n",
    "model.fit(X, y)\n",
    "\n",
    "var_importances = pd.DataFrame({'Variable': X.columns, 'Importance': model.feature_importances_}).sort_values('Importance', ascending=False)\n",
    "var_importances['Importance'] =  var_importances['Importance']\n",
    "\n",
    "print(var_importances)"
   ]
  },
  {
   "cell_type": "code",
   "execution_count": 196,
   "id": "13949a75",
   "metadata": {},
   "outputs": [
    {
     "name": "stdout",
     "output_type": "stream",
     "text": [
      "Max predicted wOBA:  0.38\n",
      "Min predicted wOBA:  0.26\n"
     ]
    }
   ],
   "source": [
    "top_features = ['Barrel%', 'EV', 'CSW%', 'BB/K', 'HardHit%', 'CSW%', 'K%']\n",
    "new_X = X[top_features]\n",
    "\n",
    "model2 = DecisionTreeRegressor(random_state=1)\n",
    "train_X, test_X, train_y, test_y = train_test_split(X, y, random_state=0)\n",
    "model2.fit(train_X, train_y)\n",
    "\n",
    "predictions = model2.predict(test_X)\n",
    "\n",
    "max_wOBA = round(max(predictions), 3)\n",
    "min_wOBA = round(min(predictions), 3)\n",
    "\n",
    "print(\"Max predicted wOBA: \", max_wOBA)\n",
    "print(\"Min predicted wOBA: \", min_wOBA)\n"
   ]
  },
  {
   "cell_type": "code",
   "execution_count": 197,
   "id": "57a58db0",
   "metadata": {},
   "outputs": [
    {
     "data": {
      "image/png": "[encoded data removed]",
      "text/plain": [
       "<Figure size 432x288 with 1 Axes>"
      ]
     },
     "metadata": {
      "needs_background": "light"
     },
     "output_type": "display_data"
    },
    {
     "data": {
      "image/png": "[encoded data removed]",
      "text/plain": [
       "<Figure size 432x288 with 1 Axes>"
      ]
     },
     "metadata": {
      "needs_background": "light"
     },
     "output_type": "display_data"
    }
   ],
   "source": [
    "mae = mean_absolute_error(test_y, predictions)\n",
    "\n",
    "sns.distplot(predictions)\n",
    "\n",
    "plt.figure(2)\n",
    "plt.plot(test_y, predictions, 'b.')\n",
    "plt.xlabel('Actual wOBA')\n",
    "plt.ylabel('Predicted wOBA')\n",
    "plt.axis([min_wOBA, max_wOBA+.05, min_wOBA, max_wOBA+0.02])\n",
    "plt.show()\n"
   ]
  },
  {
   "cell_type": "code",
   "execution_count": null,
   "id": "4e553a18",
   "metadata": {},
   "outputs": [],
   "source": []
  }
 ],
 "metadata": {
  "kernelspec": {
   "display_name": "Python 3 (ipykernel)",
   "language": "python",
   "name": "python3"
  },
  "language_info": {
   "codemirror_mode": {
    "name": "ipython",
    "version": 3
   },
   "file_extension": ".py",
   "mimetype": "text/x-python",
   "name": "python",
   "nbconvert_exporter": "python",
   "pygments_lexer": "ipython3",
   "version": "3.9.7"
  }
 },
 "nbformat": 4,
 "nbformat_minor": 5
}
